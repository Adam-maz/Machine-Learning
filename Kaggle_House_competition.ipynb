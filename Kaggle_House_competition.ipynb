{
  "cells": [
    {
      "cell_type": "code",
      "execution_count": null,
      "metadata": {
        "id": "cQ2-3AVH6DkB"
      },
      "outputs": [],
      "source": [
        "!pip install catboost"
      ]
    },
    {
      "cell_type": "code",
      "execution_count": null,
      "metadata": {
        "id": "vKZKw06p5kv1"
      },
      "outputs": [],
      "source": [
        "import pandas as pd\n",
        "import numpy as np\n",
        "\n",
        "from sklearn.preprocessing import LabelEncoder\n",
        "from sklearn.preprocessing import MinMaxScaler\n",
        "from sklearn.model_selection import GridSearchCV\n",
        "from sklearn.model_selection import train_test_split\n",
        "from sklearn.impute import SimpleImputer\n",
        "\n",
        "from sklearn.ensemble import GradientBoostingRegressor\n",
        "import xgboost as xgb\n",
        "import lightgbm as lgb\n",
        "from catboost import CatBoostRegressor\n",
        "\n",
        "from sklearn.model_selection import KFold, cross_val_score\n",
        "from sklearn.metrics import mean_squared_log_error, make_scorer"
      ]
    },
    {
      "cell_type": "code",
      "execution_count": null,
      "metadata": {
        "id": "b4x0sEIq5urb"
      },
      "outputs": [],
      "source": [
        "train_file = pd.read_csv('filepath/train.csv')\n",
        "df = pd.DataFrame(train_file)\n",
        "target_train = df['SalePrice']\n",
        "df.drop(['SalePrice', 'Id'], axis='columns', inplace=True)\n",
        "\n",
        "list_for_indexes_of_objects_columns = []\n",
        "for nr, element in enumerate(df.dtypes):\n",
        "  if element == 'object':\n",
        "    list_for_indexes_of_objects_columns.append(nr)"
      ]
    },
    {
      "cell_type": "code",
      "execution_count": null,
      "metadata": {
        "collapsed": true,
        "id": "-940Ju2D6DuP"
      },
      "outputs": [],
      "source": [
        "encoder = LabelEncoder()\n",
        "imputer = SimpleImputer(strategy = 'mean')\n",
        "for column_nr in list_for_indexes_of_objects_columns:\n",
        "    df.iloc[:,column_nr] = encoder.fit_transform(df.iloc[:, column_nr])\n",
        "\n",
        "\n",
        "fullfilled_df = imputer.fit_transform(df)\n",
        "data_train = fullfilled_df"
      ]
    },
    {
      "cell_type": "code",
      "source": [
        "minimizer = MinMaxScaler()\n",
        "data_train = minimizer.fit_transform(data_train)"
      ],
      "metadata": {
        "id": "CCRlkkFZV-y_"
      },
      "execution_count": null,
      "outputs": []
    },
    {
      "cell_type": "code",
      "execution_count": null,
      "metadata": {
        "id": "wqhBn5KTN1UB"
      },
      "outputs": [],
      "source": [
        "X_train, X_test, y_train, y_test = train_test_split(data_train, target_train, test_size=0.3, random_state=42)"
      ]
    },
    {
      "cell_type": "code",
      "execution_count": null,
      "metadata": {
        "id": "ipeF7f0WAqkR"
      },
      "outputs": [],
      "source": [
        "def create_model_and_params():\n",
        "    model_params = {\n",
        "        'CatBoostRegressor': {\n",
        "            'model': CatBoostRegressor(verbose=0),\n",
        "            'params': {\n",
        "                'n_estimators': [32, 64, 128, 256, 512],\n",
        "                'learning_rate': [0.001, 0.01, 0.1 ,0.2],\n",
        "                'max_depth': [3, 6, 9],\n",
        "            }\n",
        "        },\n",
        "        'XGBRegressor': {\n",
        "            'model': xgb.XGBRegressor(use_label_encoder=False, eval_metric='rmse'),\n",
        "            'params': {\n",
        "                'n_estimators': [32, 64, 128, 256, 512],\n",
        "                'learning_rate': [0.001, 0.01, 0.1 ,0.2],\n",
        "                'max_depth': [3, 6, 9],\n",
        "            }\n",
        "        },\n",
        "        'GradientBoostingRegressor': {\n",
        "            'model': GradientBoostingRegressor(),\n",
        "            'params': {\n",
        "                'n_estimators': [32, 64, 128, 256, 512],\n",
        "                'learning_rate': [0.001, 0.01, 0.1 ,0.2],\n",
        "                'max_depth': [3, 6, 9],\n",
        "            }\n",
        "        },\n",
        "    }\n",
        "\n",
        "    return model_params"
      ]
    },
    {
      "cell_type": "code",
      "execution_count": 1,
      "metadata": {
        "id": "TXGqaDOrAqe8",
        "colab": {
          "base_uri": "https://localhost:8080/",
          "height": 236
        },
        "collapsed": true,
        "outputId": "47aafd74-11de-45d8-c026-d230f0826fb7"
      },
      "outputs": [
        {
          "output_type": "error",
          "ename": "NameError",
          "evalue": "name 'make_scorer' is not defined",
          "traceback": [
            "\u001b[0;31m---------------------------------------------------------------------------\u001b[0m",
            "\u001b[0;31mNameError\u001b[0m                                 Traceback (most recent call last)",
            "\u001b[0;32m<ipython-input-1-8976f724fe99>\u001b[0m in \u001b[0;36m<cell line: 5>\u001b[0;34m()\u001b[0m\n\u001b[1;32m      3\u001b[0m     \u001b[0;32mreturn\u001b[0m \u001b[0mnp\u001b[0m\u001b[0;34m.\u001b[0m\u001b[0msqrt\u001b[0m\u001b[0;34m(\u001b[0m\u001b[0mmean_squared_log_error\u001b[0m\u001b[0;34m(\u001b[0m\u001b[0my_true\u001b[0m\u001b[0;34m,\u001b[0m \u001b[0my_pred\u001b[0m\u001b[0;34m)\u001b[0m\u001b[0;34m)\u001b[0m\u001b[0;34m\u001b[0m\u001b[0;34m\u001b[0m\u001b[0m\n\u001b[1;32m      4\u001b[0m \u001b[0;34m\u001b[0m\u001b[0m\n\u001b[0;32m----> 5\u001b[0;31m \u001b[0mrmsle_scorer_cv\u001b[0m \u001b[0;34m=\u001b[0m \u001b[0mmake_scorer\u001b[0m\u001b[0;34m(\u001b[0m\u001b[0mrmsle_scorer\u001b[0m\u001b[0;34m,\u001b[0m \u001b[0mgreater_is_better\u001b[0m\u001b[0;34m=\u001b[0m\u001b[0;32mFalse\u001b[0m\u001b[0;34m)\u001b[0m\u001b[0;34m\u001b[0m\u001b[0;34m\u001b[0m\u001b[0m\n\u001b[0m\u001b[1;32m      6\u001b[0m \u001b[0;34m\u001b[0m\u001b[0m\n\u001b[1;32m      7\u001b[0m \u001b[0mmodel_params\u001b[0m \u001b[0;34m=\u001b[0m \u001b[0mcreate_model_and_params\u001b[0m\u001b[0;34m(\u001b[0m\u001b[0;34m)\u001b[0m\u001b[0;34m\u001b[0m\u001b[0;34m\u001b[0m\u001b[0m\n",
            "\u001b[0;31mNameError\u001b[0m: name 'make_scorer' is not defined"
          ]
        }
      ],
      "source": [
        "def rmsle_scorer(y_true, y_pred):\n",
        "    return np.sqrt(mean_squared_log_error(y_true, y_pred))\n",
        "\n",
        "rmsle_scorer_cv = make_scorer(rmsle_scorer, greater_is_better=False)\n",
        "\n",
        "model_params = create_model_and_params()\n",
        "best_model = None\n",
        "best_score = float('inf')\n",
        "best_params = None"
      ]
    },
    {
      "cell_type": "code",
      "execution_count": null,
      "metadata": {
        "colab": {
          "base_uri": "https://localhost:8080/"
        },
        "id": "0PnPAvf1AqTE",
        "outputId": "d7b3a3c4-7327-4397-f6e6-9adde43dbb70",
        "collapsed": true
      },
      "outputs": [
        {
          "output_type": "stream",
          "name": "stdout",
          "text": [
            "Best model: GradientBoostingRegressor(n_estimators=256)\n",
            "Best parameters: {'learning_rate': 0.1, 'max_depth': 3, 'n_estimators': 256}\n",
            "Best cross-validated RMSLE: 0.14196775998304573\n"
          ]
        }
      ],
      "source": [
        "for model_name, mp in model_params.items():\n",
        "    grid_search = GridSearchCV(mp['model'], mp['params'], scoring=rmsle_scorer_cv, cv=5, n_jobs=-1)\n",
        "    grid_search.fit(X_train, y_train)\n",
        "\n",
        "    if grid_search.best_score_ < best_score:\n",
        "        best_score = grid_search.best_score_\n",
        "        best_model = grid_search.best_estimator_\n",
        "        best_params = grid_search.best_params_\n",
        "\n",
        "print('Best model:', best_model)\n",
        "print('Best parameters:', best_params)\n",
        "print('Best cross-validated RMSLE:', -best_score)  # Converting back to positive RMSLE\n"
      ]
    },
    {
      "cell_type": "code",
      "execution_count": null,
      "metadata": {
        "colab": {
          "base_uri": "https://localhost:8080/"
        },
        "id": "dvZIM5uPAybd",
        "outputId": "7dfc0336-d429-4656-b00d-7b360d5ff31a",
        "collapsed": true
      },
      "outputs": [
        {
          "output_type": "stream",
          "name": "stdout",
          "text": [
            "Test RMSLE: 0.13308241921421202\n"
          ]
        }
      ],
      "source": [
        "y_pred = best_model.predict(X_test)\n",
        "test_rmsle = np.sqrt(mean_squared_log_error(y_test, y_pred))\n",
        "print(f'Test RMSLE: {test_rmsle}')"
      ]
    },
    {
      "cell_type": "code",
      "execution_count": null,
      "metadata": {
        "id": "7dVRLOlxrGWr"
      },
      "outputs": [],
      "source": [
        "test_file = pd.read_csv('filepath/test.csv')\n",
        "df_test = pd.DataFrame(test_file)\n",
        "\n",
        "\n",
        "last_nr = df_test.iloc[-1, df_test.columns.get_loc('Id')]\n",
        "\n",
        "\n",
        "df_test.drop(['Id'], axis='columns', inplace=True)\n",
        "list_for_indexes_of_objects_columns_test = []\n",
        "for nr, element in enumerate(df_test.dtypes):\n",
        "  if element == 'object':\n",
        "    list_for_indexes_of_objects_columns_test.append(nr)"
      ]
    },
    {
      "cell_type": "code",
      "execution_count": null,
      "metadata": {
        "id": "LegmgJBrrMGI"
      },
      "outputs": [],
      "source": [
        "encoder = LabelEncoder()\n",
        "imputer = SimpleImputer(strategy = 'mean')\n",
        "for column_nr in list_for_indexes_of_objects_columns_test:\n",
        "    df_test.iloc[:,column_nr] = encoder.fit_transform(df_test.iloc[:, column_nr])\n",
        "\n",
        "\n",
        "fullfilled_test_df = imputer.fit_transform(df_test)\n",
        "data_test = fullfilled_test_df"
      ]
    },
    {
      "cell_type": "code",
      "source": [
        "minimizer = MinMaxScaler()\n",
        "data_test = minimizer.fit_transform(data_test)"
      ],
      "metadata": {
        "id": "Gq1VhWsHWOWk"
      },
      "execution_count": null,
      "outputs": []
    },
    {
      "cell_type": "code",
      "execution_count": null,
      "metadata": {
        "colab": {
          "base_uri": "https://localhost:8080/"
        },
        "id": "6VSSr7Ya6gw5",
        "outputId": "e47486b8-1700-46ba-b7bf-eed133dd56d3",
        "collapsed": true
      },
      "outputs": [
        {
          "output_type": "stream",
          "name": "stdout",
          "text": [
            "[149492.77614463 162792.73815445 223843.39940169 ... 191702.7896355\n",
            " 146555.87400409 266044.53291184]\n"
          ]
        }
      ],
      "source": [
        "predictions = best_model.predict(data_test)"
      ]
    },
    {
      "cell_type": "code",
      "execution_count": null,
      "metadata": {
        "id": "2f2-4tZX09z6"
      },
      "outputs": [],
      "source": [
        "idx_arange = np.arange(1461, last_nr+1)\n",
        "idx_array = np.array(idx_arange)"
      ]
    },
    {
      "cell_type": "code",
      "execution_count": null,
      "metadata": {
        "id": "aZwWWW6l1qfR"
      },
      "outputs": [],
      "source": [
        "df_output = pd.DataFrame(data = zip(idx_array, predictions),\n",
        "                          columns = ['Id', 'SalePrice'])\n",
        "\n",
        "save_path = 'filepath/submision.csv'\n",
        "df_output.to_csv(save_path, index=False)"
      ]
    }
  ],
  "metadata": {
    "colab": {
      "provenance": []
    },
    "kernelspec": {
      "display_name": "Python 3",
      "name": "python3"
    },
    "language_info": {
      "name": "python"
    }
  },
  "nbformat": 4,
  "nbformat_minor": 0
}