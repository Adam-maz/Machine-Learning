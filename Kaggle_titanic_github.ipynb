{
  "cells": [
    {
      "cell_type": "code",
      "source": [
        "from google.colab import drive\n",
        "drive.mount('/content/drive')"
      ],
      "metadata": {
        "colab": {
          "base_uri": "https://localhost:8080/"
        },
        "id": "ZrK1tJjKIAWB",
        "outputId": "7f6fea42-0094-4c91-f000-2b207d8f8f7a"
      },
      "execution_count": null,
      "outputs": [
        {
          "output_type": "stream",
          "name": "stdout",
          "text": [
            "Drive already mounted at /content/drive; to attempt to forcibly remount, call drive.mount(\"/content/drive\", force_remount=True).\n"
          ]
        }
      ]
    },
    {
      "cell_type": "code",
      "execution_count": null,
      "metadata": {
        "id": "k0dR9uSCUqAC"
      },
      "outputs": [],
      "source": [
        "import pandas as pd\n",
        "import numpy as np\n",
        "\n",
        "from sklearn.model_selection import train_test_split\n",
        "from sklearn.model_selection import GridSearchCV\n",
        "from sklearn.preprocessing import LabelEncoder\n",
        "\n",
        "from sklearn.tree import DecisionTreeClassifier\n",
        "from sklearn.ensemble import RandomForestClassifier, GradientBoostingClassifier, AdaBoostClassifier\n",
        "from xgboost import XGBClassifier\n",
        "from sklearn.neighbors import KNeighborsClassifier\n",
        "from sklearn.svm import SVC\n",
        "from sklearn.naive_bayes import GaussianNB\n",
        "from sklearn.linear_model import LogisticRegression\n",
        "from sklearn.ensemble import RandomForestClassifier\n",
        "\n",
        "from sklearn.metrics import roc_curve, roc_auc_score"
      ]
    },
    {
      "cell_type": "code",
      "execution_count": null,
      "metadata": {
        "id": "kEey1srQU8bD"
      },
      "outputs": [],
      "source": [
        "training_file = pd.read_csv('filepath/train.csv')\n",
        "\n",
        "df = pd.DataFrame(training_file)\n",
        "df.drop(['Name',\n",
        "         'Embarked',\n",
        "         'Fare',\n",
        "         'Ticket',\n",
        "         'Cabin',\n",
        "         'Age'], axis = 'columns', inplace=True)"
      ]
    },
    {
      "cell_type": "code",
      "execution_count": null,
      "metadata": {
        "id": "Z63K4ydIQThM",
        "collapsed": true
      },
      "outputs": [],
      "source": [
        "encoder = LabelEncoder()\n",
        "df['sex_encoded'] = encoder.fit_transform(df['Sex'])\n",
        "df.drop(['Sex'], axis='columns', inplace=True)\n",
        "data = df.drop(['PassengerId', 'Survived'], axis='columns')\n",
        "target = df['Survived']"
      ]
    },
    {
      "cell_type": "code",
      "source": [
        "X_train, X_test, y_train, y_test = train_test_split(data, target, test_size=0.3, random_state=42)"
      ],
      "metadata": {
        "id": "pM_lSHHnInL1"
      },
      "execution_count": null,
      "outputs": []
    },
    {
      "cell_type": "code",
      "source": [
        "model_params = {\n",
        "    'Logistic Regression': {\n",
        "        'model': LogisticRegression(),\n",
        "        'params': {\n",
        "            'C': [0.1, 1, 10],\n",
        "            'solver': ['liblinear', 'lbfgs']\n",
        "        }\n",
        "    },\n",
        "    'Decision Tree': {\n",
        "        'model': DecisionTreeClassifier(),\n",
        "        'params': {\n",
        "            'max_depth': [10, 20, None],\n",
        "            'min_samples_split': [2, 10, 20]\n",
        "        }\n",
        "    },\n",
        "    'Random Forest': {\n",
        "        'model': RandomForestClassifier(),\n",
        "        'params': {\n",
        "            'n_estimators': [10, 30, 50, 100],\n",
        "            'max_depth': [10, 20, None],\n",
        "            'criterion' : ['entropy', 'gini', 'log_loss'],\n",
        "            'min_samples_split' : [2, 3, 5]\n",
        "        }\n",
        "    },\n",
        "    'Gradient Boosting': {\n",
        "        'model': GradientBoostingClassifier(),\n",
        "        'params': {\n",
        "            'n_estimators': [50, 100, 200],\n",
        "            'learning_rate': [0.01, 0.1, 0.2]\n",
        "        }\n",
        "    },\n",
        "    'AdaBoost': {\n",
        "        'model': AdaBoostClassifier(),\n",
        "        'params': {\n",
        "            'n_estimators': [50, 100, 200],\n",
        "            'learning_rate': [0.01, 0.1, 0.2]\n",
        "        }\n",
        "    },\n",
        "    'XGBoost': {\n",
        "        'model': XGBClassifier(),\n",
        "        'params': {\n",
        "            'n_estimators': [50, 100, 200],\n",
        "            'learning_rate': [0.01, 0.1, 0.2]\n",
        "        }\n",
        "    },\n",
        "    'K-Nearest Neighbors': {\n",
        "        'model': KNeighborsClassifier(),\n",
        "        'params': {\n",
        "            'n_neighbors': [3, 5, 7],\n",
        "            'weights': ['uniform', 'distance']\n",
        "        }\n",
        "    },\n",
        "    'SVM': {\n",
        "        'model': SVC(probability=True),\n",
        "        'params': {\n",
        "            'C': [0.1, 1, 10],\n",
        "            'kernel': ['linear', 'rbf']\n",
        "        }\n",
        "    },\n",
        "    'Naive Bayes': {\n",
        "        'model': GaussianNB(),\n",
        "        'params': {}\n",
        "    },\n",
        "}"
      ],
      "metadata": {
        "id": "cg3iwEK2JnM5"
      },
      "execution_count": null,
      "outputs": []
    },
    {
      "cell_type": "code",
      "source": [
        "def model_screening(x_set, y_set):\n",
        "  iterator = 1\n",
        "  scores = []\n",
        "  for model_name, mp in model_params.items():\n",
        "      clf = GridSearchCV(mp['model'], mp['params'], cv=3, return_train_score=False)\n",
        "      clf.fit(x_set, y_set)\n",
        "\n",
        "\n",
        "      # Predicition of probabilities\n",
        "      y_scores = clf.predict_proba(x_set)[:, 1]\n",
        "\n",
        "      # AUC calculation\n",
        "      auc_score = roc_auc_score(y_set, y_scores)\n",
        "\n",
        "      scores.append({\n",
        "          'model': model_name,\n",
        "          'best_score': clf.best_score_,\n",
        "          'best_params': clf.best_params_,\n",
        "          'auc_score': auc_score\n",
        "      })\n",
        "      iterator += 1\n",
        "\n",
        "  # Results printing\n",
        "  for score in scores:\n",
        "      print(f\"Model: {score['model']}, Best Score : {score['best_score']:.2f}, Best Params: {score['best_params']}, AUC: {score['auc_score']:.2f}\")\n"
      ],
      "metadata": {
        "id": "SOlS7joWIZ4-"
      },
      "execution_count": null,
      "outputs": []
    },
    {
      "cell_type": "code",
      "source": [
        "print('Training set:')\n",
        "model_screening(X_train, y_train)\n",
        "print()\n",
        "print('Validation set:')\n",
        "model_screening(X_test, y_test)\n"
      ],
      "metadata": {
        "colab": {
          "base_uri": "https://localhost:8080/"
        },
        "id": "G8BYWHeoA3eI",
        "outputId": "c8974641-2515-44b0-afce-78e47e0896de"
      },
      "execution_count": null,
      "outputs": [
        {
          "output_type": "stream",
          "name": "stdout",
          "text": [
            "Training set:\n",
            "Model: Logistic Regression, Best Score : 0.79, Best Params: {'C': 10, 'solver': 'liblinear'}, AUC: 0.82\n",
            "Model: Decision Tree, Best Score : 0.78, Best Params: {'max_depth': 10, 'min_samples_split': 2}, AUC: 0.88\n",
            "Model: Random Forest, Best Score : 0.78, Best Params: {'criterion': 'gini', 'max_depth': 20, 'min_samples_split': 2, 'n_estimators': 10}, AUC: 0.87\n",
            "Model: Gradient Boosting, Best Score : 0.79, Best Params: {'learning_rate': 0.01, 'n_estimators': 50}, AUC: 0.84\n",
            "Model: AdaBoost, Best Score : 0.80, Best Params: {'learning_rate': 0.1, 'n_estimators': 100}, AUC: 0.84\n",
            "Model: XGBoost, Best Score : 0.79, Best Params: {'learning_rate': 0.01, 'n_estimators': 50}, AUC: 0.85\n",
            "Model: K-Nearest Neighbors, Best Score : 0.77, Best Params: {'n_neighbors': 5, 'weights': 'uniform'}, AUC: 0.83\n",
            "Model: SVM, Best Score : 0.80, Best Params: {'C': 0.1, 'kernel': 'rbf'}, AUC: 0.84\n",
            "Model: Naive Bayes, Best Score : 0.76, Best Params: {}, AUC: 0.83\n",
            "\n",
            "Validation set:\n",
            "Model: Logistic Regression, Best Score : 0.79, Best Params: {'C': 1, 'solver': 'liblinear'}, AUC: 0.86\n",
            "Model: Decision Tree, Best Score : 0.81, Best Params: {'max_depth': 10, 'min_samples_split': 20}, AUC: 0.90\n",
            "Model: Random Forest, Best Score : 0.82, Best Params: {'criterion': 'gini', 'max_depth': 20, 'min_samples_split': 2, 'n_estimators': 30}, AUC: 0.91\n",
            "Model: Gradient Boosting, Best Score : 0.82, Best Params: {'learning_rate': 0.01, 'n_estimators': 100}, AUC: 0.89\n",
            "Model: AdaBoost, Best Score : 0.81, Best Params: {'learning_rate': 0.1, 'n_estimators': 200}, AUC: 0.89\n",
            "Model: XGBoost, Best Score : 0.83, Best Params: {'learning_rate': 0.01, 'n_estimators': 100}, AUC: 0.89\n",
            "Model: K-Nearest Neighbors, Best Score : 0.81, Best Params: {'n_neighbors': 5, 'weights': 'uniform'}, AUC: 0.89\n",
            "Model: SVM, Best Score : 0.81, Best Params: {'C': 1, 'kernel': 'rbf'}, AUC: 0.83\n",
            "Model: Naive Bayes, Best Score : 0.80, Best Params: {}, AUC: 0.87\n"
          ]
        }
      ]
    },
    {
      "cell_type": "code",
      "source": [
        "testing_file = pd.read_csv('filepath/test.csv')\n",
        "df_task = pd.DataFrame(testing_file)\n",
        "df_task.drop(['Name',\n",
        "         'Embarked',\n",
        "         'Fare',\n",
        "         'Ticket',\n",
        "         'Cabin',\n",
        "         'Age'], axis = 'columns', inplace=True)\n",
        "\n",
        "df_task['sex_encoded'] = encoder.fit_transform(df_task['Sex'])\n",
        "df_task.drop(['Sex'], axis='columns', inplace=True)\n",
        "data_task = df_task.drop(['PassengerId'], axis='columns')"
      ],
      "metadata": {
        "id": "1N_cK2PUBkES"
      },
      "execution_count": null,
      "outputs": []
    },
    {
      "cell_type": "code",
      "execution_count": null,
      "metadata": {
        "id": "rqmmXFbcU1K0",
        "colab": {
          "base_uri": "https://localhost:8080/"
        },
        "outputId": "adca700a-af55-4b2e-90c7-25af24a6438a"
      },
      "outputs": [
        {
          "output_type": "execute_result",
          "data": {
            "text/plain": [
              "array([0, 1, 0, 0, 0, 0, 1, 1, 1, 0, 0, 0, 1, 0, 1, 1, 0, 0, 1, 1, 0, 0,\n",
              "       1, 0, 1, 0, 1, 0, 0, 0, 0, 0, 0, 0, 0, 0, 1, 1, 0, 0, 0, 0, 0, 1,\n",
              "       1, 0, 0, 0, 1, 1, 0, 0, 1, 1, 0, 0, 0, 0, 0, 1, 0, 0, 0, 1, 0, 1,\n",
              "       1, 0, 0, 1, 1, 0, 1, 0, 1, 0, 0, 1, 0, 1, 0, 0, 0, 0, 0, 0, 1, 1,\n",
              "       1, 1, 1, 0, 1, 0, 0, 0, 1, 0, 1, 0, 1, 0, 0, 0, 0, 0, 0, 0, 0, 0,\n",
              "       0, 1, 1, 1, 1, 0, 0, 0, 0, 1, 1, 0, 1, 0, 0, 1, 0, 1, 0, 0, 0, 0,\n",
              "       0, 0, 0, 0, 0, 0, 1, 0, 0, 1, 1, 0, 0, 0, 0, 0, 0, 1, 1, 0, 0, 1,\n",
              "       0, 0, 1, 1, 0, 1, 1, 0, 1, 0, 0, 0, 0, 0, 1, 1, 0, 0, 0, 0, 0, 1,\n",
              "       1, 0, 1, 1, 0, 0, 1, 0, 1, 0, 1, 0, 0, 0, 0, 0, 0, 0, 1, 0, 1, 1,\n",
              "       0, 1, 1, 1, 0, 1, 0, 0, 1, 0, 1, 0, 0, 0, 0, 1, 0, 0, 1, 0, 1, 0,\n",
              "       1, 0, 1, 0, 1, 1, 0, 1, 0, 0, 0, 1, 0, 0, 0, 0, 0, 0, 1, 1, 1, 1,\n",
              "       0, 0, 0, 0, 1, 1, 1, 1, 1, 0, 0, 0, 0, 0, 0, 0, 1, 0, 0, 0, 1, 0,\n",
              "       0, 0, 0, 0, 1, 0, 0, 0, 1, 1, 0, 1, 0, 0, 0, 0, 1, 0, 1, 0, 0, 0,\n",
              "       0, 0, 0, 0, 0, 1, 0, 0, 0, 0, 1, 0, 0, 0, 0, 0, 0, 0, 1, 1, 1, 0,\n",
              "       0, 1, 0, 0, 0, 1, 1, 1, 0, 0, 0, 0, 0, 0, 0, 0, 1, 0, 1, 0, 0, 0,\n",
              "       1, 0, 0, 0, 0, 0, 0, 1, 0, 0, 0, 0, 0, 1, 0, 1, 0, 1, 0, 1, 1, 0,\n",
              "       0, 0, 0, 0, 1, 0, 0, 1, 0, 1, 1, 0, 1, 0, 0, 1, 1, 0, 0, 1, 0, 0,\n",
              "       1, 1, 1, 0, 0, 0, 0, 0, 1, 1, 0, 1, 0, 0, 0, 0, 0, 1, 1, 0, 0, 1,\n",
              "       0, 1, 0, 0, 1, 0, 1, 0, 0, 0, 0, 0, 1, 0, 1, 1, 1, 0, 1, 0, 0, 0])"
            ]
          },
          "metadata": {},
          "execution_count": 117
        }
      ],
      "source": [
        "model = RandomForestClassifier(n_estimators=10,\n",
        "                               criterion='entropy',\n",
        "                               min_samples_split=5,\n",
        "                               max_depth=10\n",
        "                               )\n",
        "\n",
        "\n",
        "model.fit(data, target)\n",
        "model.predict(data_task)"
      ]
    },
    {
      "cell_type": "code",
      "source": [
        "print(len(model.predict(data_task)))"
      ],
      "metadata": {
        "id": "a9OvdXPqx33W",
        "colab": {
          "base_uri": "https://localhost:8080/"
        },
        "outputId": "4cc932e1-16e3-4e6c-e436-641ceff22e14"
      },
      "execution_count": null,
      "outputs": [
        {
          "output_type": "stream",
          "name": "stdout",
          "text": [
            "418\n"
          ]
        }
      ]
    },
    {
      "cell_type": "code",
      "source": [
        "df_final = pd.DataFrame(data=model.predict(data_task),\n",
        "                        columns=['Survived']\n",
        ")\n",
        "df_final['PassengerID'] = np.arange(892,1310)\n",
        "cols = df_final.columns.to_list()\n",
        "df_final = df_final[cols[::-1]]\n",
        "path = 'path/submision.csv'\n",
        "df_final.to_csv(path, index=False)\n"
      ],
      "metadata": {
        "id": "3jTWbMcwt8o3"
      },
      "execution_count": null,
      "outputs": []
    }
  ],
  "metadata": {
    "colab": {
      "provenance": []
    },
    "kernelspec": {
      "display_name": "Python 3",
      "name": "python3"
    },
    "language_info": {
      "name": "python"
    }
  },
  "nbformat": 4,
  "nbformat_minor": 0
}